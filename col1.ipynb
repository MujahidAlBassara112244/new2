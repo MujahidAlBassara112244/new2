{
  "nbformat": 4,
  "nbformat_minor": 0,
  "metadata": {
    "colab": {
      "provenance": [],
      "authorship_tag": "ABX9TyMzIV9umeczo75K+A8jraMa"
    },
    "kernelspec": {
      "name": "python3",
      "display_name": "Python 3"
    },
    "language_info": {
      "name": "python"
    }
  },
  "cells": [
    {
      "cell_type": "code",
      "execution_count": 1,
      "metadata": {
        "colab": {
          "base_uri": "https://localhost:8080/"
        },
        "id": "MR2rhW0l_cA5",
        "outputId": "02926909-89c8-42c7-b6a5-8e38a9e1f0c1"
      },
      "outputs": [
        {
          "output_type": "stream",
          "name": "stdout",
          "text": [
            "alomawi2m@gmail.com\n"
          ]
        }
      ],
      "source": [
        "email=\"alomawi2m@gmail.com\"\n",
        "print(email)"
      ]
    },
    {
      "cell_type": "code",
      "source": [],
      "metadata": {
        "id": "olUPAQhs_tRH"
      },
      "execution_count": null,
      "outputs": []
    }
  ]
}